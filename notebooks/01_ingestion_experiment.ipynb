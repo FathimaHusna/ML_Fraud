{
 "cells": [
  {
   "cell_type": "markdown",
   "metadata": {},
   "source": [
    "# Ingestion Experiment (KYC ID Authenticity)\n",
    "Use local sample DI output to exercise normalization and storage."
   ]
  },
  {
   "cell_type": "code",
   "execution_count": 5,
   "metadata": {},
   "outputs": [
    {
     "name": "stdout",
     "output_type": "stream",
     "text": [
      "\u001b[31mERROR: Could not find a version that satisfies the requirement azure-search-documents>=11.6.0 (from versions: 1.0.0b2, 1.0.0b3, 1.0.0b4, 11.0.0, 11.1.0b1, 11.1.0b2, 11.1.0b3, 11.1.0b4, 11.1.0, 11.2.0b1, 11.2.0b2, 11.2.0b3, 11.2.0, 11.2.1, 11.2.2, 11.3.0b1, 11.3.0b2, 11.3.0b3, 11.3.0b4, 11.3.0b5, 11.3.0b6, 11.3.0b7, 11.3.0b8, 11.3.0, 11.4.0b1, 11.4.0b2, 11.4.0b3, 11.4.0b4, 11.4.0b5, 11.4.0b6, 11.4.0b7, 11.4.0b8, 11.4.0b9, 11.4.0b10, 11.4.0b11, 11.4.0, 11.5.0, 11.5.1, 11.5.2, 11.5.3, 11.6.0b1, 11.6.0b2, 11.6.0b3, 11.6.0b4, 11.6.0b5, 11.6.0b6, 11.6.0b7, 11.6.0b8, 11.6.0b9, 11.6.0b10, 11.6.0b11, 11.6.0b12)\u001b[0m\u001b[31m\n",
      "\u001b[0m\u001b[31mERROR: No matching distribution found for azure-search-documents>=11.6.0\u001b[0m\u001b[31m\n",
      "\u001b[0mNote: you may need to restart the kernel to use updated packages.\n"
     ]
    }
   ],
   "source": [
    "%pip install -q -r ../../requirements.txt"
   ]
  },
  {
   "cell_type": "code",
   "execution_count": 4,
   "metadata": {},
   "outputs": [
    {
     "ename": "ModuleNotFoundError",
     "evalue": "No module named 'ingestion'",
     "output_type": "error",
     "traceback": [
      "\u001b[31m---------------------------------------------------------------------------\u001b[39m",
      "\u001b[31mModuleNotFoundError\u001b[39m                       Traceback (most recent call last)",
      "\u001b[36mCell\u001b[39m\u001b[36m \u001b[39m\u001b[32mIn[4]\u001b[39m\u001b[32m, line 3\u001b[39m\n\u001b[32m      1\u001b[39m \u001b[38;5;28;01mimport\u001b[39;00m\u001b[38;5;250m \u001b[39m\u001b[34;01mos\u001b[39;00m,\u001b[38;5;250m \u001b[39m\u001b[34;01mjson\u001b[39;00m\n\u001b[32m      2\u001b[39m \u001b[38;5;28;01mfrom\u001b[39;00m\u001b[38;5;250m \u001b[39m\u001b[34;01mpathlib\u001b[39;00m\u001b[38;5;250m \u001b[39m\u001b[38;5;28;01mimport\u001b[39;00m Path\n\u001b[32m----> \u001b[39m\u001b[32m3\u001b[39m \u001b[38;5;28;01mfrom\u001b[39;00m\u001b[38;5;250m \u001b[39m\u001b[34;01mingestion\u001b[39;00m\u001b[34;01m.\u001b[39;00m\u001b[34;01mconfig\u001b[39;00m\u001b[38;5;250m \u001b[39m\u001b[38;5;28;01mimport\u001b[39;00m Settings\n\u001b[32m      4\u001b[39m \u001b[38;5;28;01mfrom\u001b[39;00m\u001b[38;5;250m \u001b[39m\u001b[34;01mingestion\u001b[39;00m\u001b[34;01m.\u001b[39;00m\u001b[34;01mdi_client\u001b[39;00m\u001b[38;5;250m \u001b[39m\u001b[38;5;28;01mimport\u001b[39;00m analyze_id_document\n\u001b[32m      5\u001b[39m \u001b[38;5;28;01mfrom\u001b[39;00m\u001b[38;5;250m \u001b[39m\u001b[34;01mingestion\u001b[39;00m\u001b[34;01m.\u001b[39;00m\u001b[34;01mnormalize\u001b[39;00m\u001b[38;5;250m \u001b[39m\u001b[38;5;28;01mimport\u001b[39;00m normalize_id\n",
      "\u001b[31mModuleNotFoundError\u001b[39m: No module named 'ingestion'"
     ]
    }
   ],
   "source": [
    "import os, json\n",
    "from pathlib import Path\n",
    "from ingestion.config import Settings\n",
    "from ingestion.di_client import analyze_id_document\n",
    "from ingestion.normalize import normalize_id\n",
    "from ingestion.storage import write_json_local\n",
    "\n",
    "settings = Settings()\n",
    "settings.ensure_dirs()\n",
    "raw = analyze_id_document(settings, use_sample=True)\n",
    "norm = normalize_id(raw, submission_id=\"nb-demo-001\")\n",
    "bronze_path = write_json_local(settings.data_root, \"bronze\", \"nb-demo-001\", raw)\n",
    "silver_path = write_json_local(settings.data_root, \"silver\", \"nb-demo-001\", norm.model_dump())\n",
    "bronze_path, silver_path"
   ]
  },
  {
   "cell_type": "code",
   "execution_count": 3,
   "metadata": {},
   "outputs": [
    {
     "ename": "ModuleNotFoundError",
     "evalue": "No module named 'pandas'",
     "output_type": "error",
     "traceback": [
      "\u001b[31m---------------------------------------------------------------------------\u001b[39m",
      "\u001b[31mModuleNotFoundError\u001b[39m                       Traceback (most recent call last)",
      "\u001b[36mCell\u001b[39m\u001b[36m \u001b[39m\u001b[32mIn[3]\u001b[39m\u001b[32m, line 2\u001b[39m\n\u001b[32m      1\u001b[39m \u001b[38;5;66;03m# Inspect normalized output\u001b[39;00m\n\u001b[32m----> \u001b[39m\u001b[32m2\u001b[39m \u001b[38;5;28;01mimport\u001b[39;00m\u001b[38;5;250m \u001b[39m\u001b[34;01mpandas\u001b[39;00m\u001b[38;5;250m \u001b[39m\u001b[38;5;28;01mas\u001b[39;00m\u001b[38;5;250m \u001b[39m\u001b[34;01mpd\u001b[39;00m\n\u001b[32m      3\u001b[39m pd.Series(norm.model_dump())\n",
      "\u001b[31mModuleNotFoundError\u001b[39m: No module named 'pandas'"
     ]
    }
   ],
   "source": [
    "# Inspect normalized output\n",
    "import pandas as pd\n",
    "pd.Series(norm.model_dump())"
   ]
  }
 ],
 "metadata": {
  "kernelspec": {
   "display_name": ".venv",
   "language": "python",
   "name": "python3"
  },
  "language_info": {
   "codemirror_mode": {
    "name": "ipython",
    "version": 3
   },
   "file_extension": ".py",
   "mimetype": "text/x-python",
   "name": "python",
   "nbconvert_exporter": "python",
   "pygments_lexer": "ipython3",
   "version": "3.12.3"
  }
 },
 "nbformat": 4,
 "nbformat_minor": 5
}
